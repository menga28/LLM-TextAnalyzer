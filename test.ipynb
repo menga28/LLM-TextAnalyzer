{
 "cells": [
  {
   "cell_type": "code",
   "execution_count": 13,
   "metadata": {},
   "outputs": [
    {
     "name": "stdout",
     "output_type": "stream",
     "text": [
      "Requirement already satisfied: pandas in c:\\users\\menga\\documents\\code\\llm-textanalyzer\\.venv\\lib\\site-packages (2.2.3)\n",
      "Requirement already satisfied: numpy>=1.26.0 in c:\\users\\menga\\documents\\code\\llm-textanalyzer\\.venv\\lib\\site-packages (from pandas) (2.1.3)\n",
      "Requirement already satisfied: python-dateutil>=2.8.2 in c:\\users\\menga\\documents\\code\\llm-textanalyzer\\.venv\\lib\\site-packages (from pandas) (2.9.0.post0)\n",
      "Requirement already satisfied: pytz>=2020.1 in c:\\users\\menga\\documents\\code\\llm-textanalyzer\\.venv\\lib\\site-packages (from pandas) (2024.2)\n",
      "Requirement already satisfied: tzdata>=2022.7 in c:\\users\\menga\\documents\\code\\llm-textanalyzer\\.venv\\lib\\site-packages (from pandas) (2024.2)\n",
      "Requirement already satisfied: six>=1.5 in c:\\users\\menga\\documents\\code\\llm-textanalyzer\\.venv\\lib\\site-packages (from python-dateutil>=2.8.2->pandas) (1.16.0)\n",
      "Collecting lxml\n",
      "  Downloading lxml-5.3.0-cp312-cp312-win_amd64.whl.metadata (3.9 kB)\n",
      "Downloading lxml-5.3.0-cp312-cp312-win_amd64.whl (3.8 MB)\n",
      "   ---------------------------------------- 0.0/3.8 MB ? eta -:--:--\n",
      "   -------- ------------------------------- 0.8/3.8 MB 4.8 MB/s eta 0:00:01\n",
      "   ---------- ----------------------------- 1.0/3.8 MB 5.0 MB/s eta 0:00:01\n",
      "   ---------- ----------------------------- 1.0/3.8 MB 5.0 MB/s eta 0:00:01\n",
      "   --------------------- ------------------ 2.1/3.8 MB 2.5 MB/s eta 0:00:01\n",
      "   -------------------------------- ------- 3.1/3.8 MB 3.1 MB/s eta 0:00:01\n",
      "   ---------------------------------------- 3.8/3.8 MB 3.4 MB/s eta 0:00:00\n",
      "Installing collected packages: lxml\n",
      "Successfully installed lxml-5.3.0\n"
     ]
    }
   ],
   "source": [
    "!pip install pandas \n",
    "!pip install lxml"
   ]
  },
  {
   "cell_type": "code",
   "execution_count": 5,
   "metadata": {},
   "outputs": [],
   "source": [
    "import pandas as pd"
   ]
  },
  {
   "cell_type": "code",
   "execution_count": null,
   "metadata": {},
   "outputs": [],
   "source": [
    "path = r\"C:\\Users\\menga\\Documents\\Code\\LLM-TextAnalyzer\\datasets\\result.xml\""
   ]
  },
  {
   "cell_type": "code",
   "execution_count": 15,
   "metadata": {},
   "outputs": [
    {
     "name": "stdout",
     "output_type": "stream",
     "text": [
      "/datasets/result.xml\n"
     ]
    }
   ],
   "source": [
    "print(path)"
   ]
  },
  {
   "cell_type": "code",
   "execution_count": null,
   "metadata": {},
   "outputs": [
    {
     "name": "stdout",
     "output_type": "stream",
     "text": [
      "Anteprima DataFrame:\n"
     ]
    },
    {
     "data": {
      "text/html": [
       "<div>\n",
       "<style scoped>\n",
       "    .dataframe tbody tr th:only-of-type {\n",
       "        vertical-align: middle;\n",
       "    }\n",
       "\n",
       "    .dataframe tbody tr th {\n",
       "        vertical-align: top;\n",
       "    }\n",
       "\n",
       "    .dataframe thead th {\n",
       "        text-align: right;\n",
       "    }\n",
       "</style>\n",
       "<table border=\"1\" class=\"dataframe\">\n",
       "  <thead>\n",
       "    <tr style=\"text-align: right;\">\n",
       "      <th></th>\n",
       "      <th>xml/results/result/answers/answer/text#text</th>\n",
       "      <th>xml/results/result/answers/answer@id</th>\n",
       "      <th>xml/results/result@content_id</th>\n",
       "    </tr>\n",
       "  </thead>\n",
       "  <tbody>\n",
       "    <tr>\n",
       "      <th>0</th>\n",
       "      <td>no</td>\n",
       "      <td>NaN</td>\n",
       "      <td>NaN</td>\n",
       "    </tr>\n",
       "    <tr>\n",
       "      <th>1</th>\n",
       "      <td>NaN</td>\n",
       "      <td>5dbd3c18-b7ac-4dfd-accb-97294f731bea</td>\n",
       "      <td>NaN</td>\n",
       "    </tr>\n",
       "    <tr>\n",
       "      <th>2</th>\n",
       "      <td>Yes, the text mentions the development of a di...</td>\n",
       "      <td>NaN</td>\n",
       "      <td>NaN</td>\n",
       "    </tr>\n",
       "    <tr>\n",
       "      <th>3</th>\n",
       "      <td>NaN</td>\n",
       "      <td>0832d05a-662c-49c0-8bbf-4a950fe9787c</td>\n",
       "      <td>NaN</td>\n",
       "    </tr>\n",
       "    <tr>\n",
       "      <th>4</th>\n",
       "      <td>NaN</td>\n",
       "      <td>NaN</td>\n",
       "      <td>044897fa-5520-4e41-8a61-dd9a89f91ba8</td>\n",
       "    </tr>\n",
       "    <tr>\n",
       "      <th>5</th>\n",
       "      <td>no</td>\n",
       "      <td>NaN</td>\n",
       "      <td>NaN</td>\n",
       "    </tr>\n",
       "    <tr>\n",
       "      <th>6</th>\n",
       "      <td>NaN</td>\n",
       "      <td>5dbd3c18-b7ac-4dfd-accb-97294f731bea</td>\n",
       "      <td>NaN</td>\n",
       "    </tr>\n",
       "    <tr>\n",
       "      <th>7</th>\n",
       "      <td>Yes, the text describes the implementation and...</td>\n",
       "      <td>NaN</td>\n",
       "      <td>NaN</td>\n",
       "    </tr>\n",
       "    <tr>\n",
       "      <th>8</th>\n",
       "      <td>NaN</td>\n",
       "      <td>0832d05a-662c-49c0-8bbf-4a950fe9787c</td>\n",
       "      <td>NaN</td>\n",
       "    </tr>\n",
       "    <tr>\n",
       "      <th>9</th>\n",
       "      <td>NaN</td>\n",
       "      <td>NaN</td>\n",
       "      <td>26b70aa6-0a69-4058-b58f-9156402386d5</td>\n",
       "    </tr>\n",
       "  </tbody>\n",
       "</table>\n",
       "</div>"
      ],
      "text/plain": [
       "         xml/results/result/answers/answer/text#text  \\\n",
       "0                                                 no   \n",
       "1                                                NaN   \n",
       "2  Yes, the text mentions the development of a di...   \n",
       "3                                                NaN   \n",
       "4                                                NaN   \n",
       "5                                                 no   \n",
       "6                                                NaN   \n",
       "7  Yes, the text describes the implementation and...   \n",
       "8                                                NaN   \n",
       "9                                                NaN   \n",
       "\n",
       "   xml/results/result/answers/answer@id         xml/results/result@content_id  \n",
       "0                                   NaN                                   NaN  \n",
       "1  5dbd3c18-b7ac-4dfd-accb-97294f731bea                                   NaN  \n",
       "2                                   NaN                                   NaN  \n",
       "3  0832d05a-662c-49c0-8bbf-4a950fe9787c                                   NaN  \n",
       "4                                   NaN  044897fa-5520-4e41-8a61-dd9a89f91ba8  \n",
       "5                                   NaN                                   NaN  \n",
       "6  5dbd3c18-b7ac-4dfd-accb-97294f731bea                                   NaN  \n",
       "7                                   NaN                                   NaN  \n",
       "8  0832d05a-662c-49c0-8bbf-4a950fe9787c                                   NaN  \n",
       "9                                   NaN  26b70aa6-0a69-4058-b58f-9156402386d5  "
      ]
     },
     "metadata": {},
     "output_type": "display_data"
    }
   ],
   "source": []
  }
 ],
 "metadata": {
  "kernelspec": {
   "display_name": ".venv",
   "language": "python",
   "name": "python3"
  },
  "language_info": {
   "codemirror_mode": {
    "name": "ipython",
    "version": 3
   },
   "file_extension": ".py",
   "mimetype": "text/x-python",
   "name": "python",
   "nbconvert_exporter": "python",
   "pygments_lexer": "ipython3",
   "version": "3.12.7"
  }
 },
 "nbformat": 4,
 "nbformat_minor": 2
}
